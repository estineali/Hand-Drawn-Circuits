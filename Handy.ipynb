{
 "cells": [
  {
   "cell_type": "markdown",
   "metadata": {},
   "source": [
    "# Hand drawn circuit diagram analyzer \n",
    "## Digital Image Processing \n",
    "#### Sara Jameel and Muhammad Shahrom Ali"
   ]
  },
  {
   "cell_type": "markdown",
   "metadata": {},
   "source": [
    "###### Importing and Housekeeping "
   ]
  },
  {
   "cell_type": "code",
   "execution_count": 2,
   "metadata": {},
   "outputs": [],
   "source": [
    "import numpy as np \n",
    "\n",
    "import cvxopt\n",
    "\n",
    "import cv2\n",
    "\n",
    "from sklearn import svm\n",
    "from skimage import color\n",
    "\n",
    "from skimage.feature import hog\n",
    "from skimage.morphology import skeletonize\n",
    "from sklearn.metrics import classification_report,accuracy_score\n",
    "from skimage.util import invert\n",
    "\n",
    "import matplotlib.pyplot as plt\n",
    "import matplotlib.image as mpimg"
   ]
  },
  {
   "cell_type": "code",
   "execution_count": 3,
   "metadata": {},
   "outputs": [],
   "source": [
    "# Supporting information defined \n",
    "dataset_info = {\n",
    "    # FORMAT::component_type: (no_of_imgs, label_value, format)\n",
    "    'voltagesource' : (100, 0, '.png'),\n",
    "    'resistor' : (100, 1, '.jpeg')\n",
    "}\n",
    "\n",
    "#Label_value (int) : component_type (string)\n",
    "labels = {dataset_info[i][1] : i for i in dataset_info}"
   ]
  },
  {
   "cell_type": "markdown",
   "metadata": {},
   "source": [
    "###### Classes"
   ]
  },
  {
   "cell_type": "code",
   "execution_count": 4,
   "metadata": {},
   "outputs": [],
   "source": [
    "class VoltageSource():\n",
    "    def __init__(self, v, p1, p2):\n",
    "        self.voltage = v\n",
    "        self.v_out = p2 # The connection where the current leaves the power source \n",
    "        self.v_in = p1 # The connection where the curret reaches the power source back "
   ]
  },
  {
   "cell_type": "code",
   "execution_count": 5,
   "metadata": {
    "scrolled": true
   },
   "outputs": [],
   "source": [
    "class Resistor():\n",
    "\n",
    "    def __init__(self , r, p1, p2):\n",
    "        self.resistance = r\n",
    "        self.p1 = p1\n",
    "        self.p2 = p2"
   ]
  },
  {
   "cell_type": "markdown",
   "metadata": {},
   "source": [
    "###### Load Data "
   ]
  },
  {
   "cell_type": "code",
   "execution_count": 12,
   "metadata": {},
   "outputs": [],
   "source": [
    "def preprocess_data(img):\n",
    "    \n",
    "    #Resize the image for less pixels \n",
    "    width = 100\n",
    "    height = 100\n",
    "    dim = (width, height) \n",
    "    img = cv2.resize(img, dim, interpolation = cv2.INTER_AREA) \n",
    "\n",
    "    #convert image to grayscale \n",
    "    if img.shape[2] == 4:\n",
    "        img = color.rgb2gray(color.rgba2rgb(img))\n",
    "    elif img.shape[2] == 3:\n",
    "        img = color.rgb2gray(img)\n",
    "    return img"
   ]
  },
  {
   "cell_type": "code",
   "execution_count": 13,
   "metadata": {},
   "outputs": [],
   "source": [
    "def load_dataset():\n",
    "    handy_dataset = list()\n",
    "    \n",
    "    for component_type in dataset_info:\n",
    "    \n",
    "        img_count = dataset_info[component_type][0]\n",
    "        component_label = dataset_info[component_type][1]\n",
    "        file_ext = dataset_info[component_type][2]\n",
    "        \n",
    "        #LOAD IMAGES OF SELECTED COMPONENT TYPE\n",
    "        for i in range(1,  img_count + 1):\n",
    "\n",
    "            img_path = './traindata/' + component_type + \"/\" + str(i) + file_ext\n",
    "            \n",
    "            img = preprocess_data( mpimg.imread( img_path ) ) \n",
    "\n",
    "            handy_dataset.append((img, component_label))\n",
    "\n",
    "    #Loaded Dataset\n",
    "    handy_dataset = np.array(handy_dataset, dtype=object)\n",
    "    \n",
    "    return handy_dataset"
   ]
  },
  {
   "cell_type": "markdown",
   "metadata": {},
   "source": [
    "##### Image Processing"
   ]
  },
  {
   "cell_type": "code",
   "execution_count": 27,
   "metadata": {},
   "outputs": [],
   "source": [
    "def smoothing_img(img, show = False):\n",
    "    # Smoothing image using Gaussian filtering \n",
    "    kernel = np.ones((5,5),np.float32)/25\n",
    "    retval = cv2.filter2D(img,-1,kernel)\n",
    "    \n",
    "    if show:\n",
    "        plt.subplot(121), plt.imshow(img), plt.title('Original Image ')\n",
    "        plt.subplot(122), plt.imshow(retval), plt.title('After Gaussian Filtering')\n",
    "        \n",
    "    return retval"
   ]
  },
  {
   "cell_type": "code",
   "execution_count": 28,
   "metadata": {},
   "outputs": [],
   "source": [
    "def make_binary(img, show = False):\n",
    "    ret,thresh = cv2.threshold(img,200,255,cv2.THRESH_BINARY_INV)\n",
    "    \n",
    "#     thresh = cv2.adaptiveThreshold(img,255,cv2.ADAPTIVE_THRESH_GAUSSIAN_C,cv2.THRESH_BINARY_INV,11,2)\n",
    "    if show:\n",
    "        \n",
    "        plt.subplot(211), plt.imshow(img), plt.title('Original Image')\n",
    "        plt.subplot(212), plt.imshow(thresh), plt.title('Binary Inverted')\n",
    "        \n",
    "    return thresh"
   ]
  },
  {
   "cell_type": "code",
   "execution_count": 29,
   "metadata": {
    "scrolled": true
   },
   "outputs": [
    {
     "data": {
      "image/png": "[encoded data removed]",
      "text/plain": [
       "<Figure size 432x288 with 1 Axes>"
      ]
     },
     "metadata": {
      "needs_background": "light"
     },
     "output_type": "display_data"
    }
   ],
   "source": [
    "img = cv2.imread('./Images/Circuit_1.png', 0)\n",
    "img = smoothing_img(img)\n",
    "img = make_binary(img)\n",
    "# \n",
    "\n",
    "\n",
    "# cv2.rectangle(img, (270, 1492), (310, 2500), (255, 0, 0), 2 )\n",
    "\n",
    "plt.imshow(img)\n",
    "plt.show()\n"
   ]
  },
  {
   "cell_type": "code",
   "execution_count": 30,
   "metadata": {},
   "outputs": [],
   "source": [
    "def check_neighbors(img, i, j):\n",
    "    #Apply on skeletonized image \n",
    "    # i could be 0\n",
    "    # j could be 0\n",
    "    nbhd = []\n",
    "    \n",
    "    nbrs_eight = [\n",
    "        (i-1, j-1),\n",
    "        (i, j-1),\n",
    "        (i+1, j-1),\n",
    "        (i-1, j),\n",
    "        (i+1, j),\n",
    "        (i-1, j+1),\n",
    "        (i, j+1),\n",
    "        (i+1, j+1),\n",
    "    ]\n",
    "    \n",
    "    for n in nbrs_eight:\n",
    "        if 0 <= n[0] < img.shape[0] and 0 <= n[1] < img.shape[1]:\n",
    "\n",
    "            if img[n[0], n[1]] == True:\n",
    "                nbhd.append(n)\n",
    "                \n",
    "    \n",
    "    return nbhd"
   ]
  },
  {
   "cell_type": "code",
   "execution_count": 31,
   "metadata": {},
   "outputs": [],
   "source": [
    "def get_neighbors(img, i, j):\n",
    "    nbhd = []\n",
    "    \n",
    "    nbrs_eight = [\n",
    "        (i-1, j-1),\n",
    "        (i, j-1),\n",
    "        (i+1, j-1),\n",
    "        (i-1, j),\n",
    "        (i, j),\n",
    "        (i+1, j),\n",
    "        (i-1, j+1),\n",
    "        (i, j+1),\n",
    "        (i+1, j+1),\n",
    "    ]\n",
    "    \n",
    "    for n in nbrs_eight:\n",
    "        if 0 <= n[0] < img.shape[0] and 0 <= n[1] < img.shape[1]:\n",
    "            nbhd.append(n)\n",
    "    \n",
    "    return nbhd"
   ]
  },
  {
   "cell_type": "code",
   "execution_count": 32,
   "metadata": {
    "scrolled": false
   },
   "outputs": [
    {
     "data": {
      "image/png": "[encoded data removed]",
      "text/plain": [
       "<Figure size 432x288 with 1 Axes>"
      ]
     },
     "metadata": {
      "needs_background": "light"
     },
     "output_type": "display_data"
    }
   ],
   "source": [
    "sk_img = skeletonize(img / 255)\n",
    "img = smoothing_img(img)\n",
    "plt.imshow(sk_img)\n",
    "plt.show()"
   ]
  },
  {
   "cell_type": "code",
   "execution_count": 65,
   "metadata": {},
   "outputs": [
    {
     "data": {
      "image/png": "[encoded data removed]",
      "text/plain": [
       "<Figure size 432x288 with 1 Axes>"
      ]
     },
     "metadata": {
      "needs_background": "light"
     },
     "output_type": "display_data"
    }
   ],
   "source": [
    "endpoints = []\n",
    "\n",
    "for i in range(sk_img.shape[0]):\n",
    "    for j in range(sk_img.shape[1]):\n",
    "        if sk_img[i,j] == True:\n",
    "            nbhd_ij = check_neighbors(sk_img, i, j)\n",
    "            if len(nbhd_ij) == 1:\n",
    "                endpoints.append((i, j))\n",
    "\n",
    "for n in endpoints:\n",
    "    for m in get_neighbors(sk_img, n[0], n[1]):\n",
    "        sk_img[m[0], m[1]] = True\n",
    "        \n",
    "plt.imshow(sk_img)\n",
    "plt.show()"
   ]
  },
  {
   "cell_type": "markdown",
   "metadata": {},
   "source": [
    "###### Feature Extraction"
   ]
  },
  {
   "cell_type": "code",
   "execution_count": 14,
   "metadata": {},
   "outputs": [],
   "source": [
    "def feature_extraction(img):\n",
    "    ppc = 16 #PIXELS PER CEL \n",
    "    return hog(img, \n",
    "               orientations=8,\n",
    "               pixels_per_cell=(ppc,ppc),\n",
    "               cells_per_block=(4, 4),\n",
    "               block_norm= 'L2',\n",
    "               visualize=True)"
   ]
  },
  {
   "cell_type": "code",
   "execution_count": 15,
   "metadata": {},
   "outputs": [],
   "source": [
    "def gen_feature_set(dataset):\n",
    "    #Feature Extraction using Histogram of Gradient\n",
    "    \n",
    "    hog_images = []\n",
    "    hog_features = []\n",
    "\n",
    "    for image in dataset:\n",
    "\n",
    "        feat_desc, hog_image = feature_extraction(image[0])\n",
    "\n",
    "        hog_images.append(hog_image)\n",
    "        hog_features.append(feat_desc)\n",
    "    \n",
    "    hog_features = np.array(hog_features)\n",
    "    labels = np.array( [img[1] for img in dataset] ).reshape(len(dataset), 1) #make collumn vector\n",
    "\n",
    "    # each row corresponds to hog_features of some img i\n",
    "    # and at the end is the label of that image \n",
    "    data_frame = np.hstack((hog_features, labels))\n",
    "    \n",
    "    return data_frame"
   ]
  },
  {
   "cell_type": "markdown",
   "metadata": {},
   "source": [
    "###### Splitting Data"
   ]
  },
  {
   "cell_type": "code",
   "execution_count": 16,
   "metadata": {},
   "outputs": [],
   "source": [
    "def split_data(data_frame):\n",
    "    \n",
    "    percentage = 80\n",
    "    partition = int(data_frame.shape[0]*percentage/100)\n",
    "    \n",
    "    x_train, x_test = data_frame[:partition,:-1],  data_frame[partition:,:-1]\n",
    "    \n",
    "    y_train, y_test = data_frame[:partition,-1:].ravel() , data_frame[partition:,-1:].ravel()\n",
    "    \n",
    "    return (x_train, y_train, x_test, y_test)"
   ]
  },
  {
   "cell_type": "markdown",
   "metadata": {},
   "source": [
    "###### Classifier"
   ]
  },
  {
   "cell_type": "code",
   "execution_count": 17,
   "metadata": {},
   "outputs": [],
   "source": [
    "def classifier(x_train, y_train):    \n",
    "    # Lib implementation\n",
    "    model_handy = svm.SVC()\n",
    "    model_handy.fit(x_train,y_train)\n",
    "    \n",
    "    return model_handy"
   ]
  },
  {
   "cell_type": "markdown",
   "metadata": {},
   "source": [
    "##### Predictions and Model Evaluations"
   ]
  },
  {
   "cell_type": "code",
   "execution_count": 18,
   "metadata": {},
   "outputs": [],
   "source": [
    "def model_eval(y_test, y_pred):\n",
    "    print(\"Accuracy: \" + str(accuracy_score(y_test, y_pred) * 100) + \"%\")\n",
    "    print('\\n')\n",
    "    print(classification_report(y_test, y_pred))"
   ]
  },
  {
   "cell_type": "markdown",
   "metadata": {},
   "source": [
    "###### Run"
   ]
  },
  {
   "cell_type": "code",
   "execution_count": 19,
   "metadata": {},
   "outputs": [
    {
     "name": "stdout",
     "output_type": "stream",
     "text": [
      "Dataset Loaded...\n",
      "Featureset generated...\n"
     ]
    }
   ],
   "source": [
    "# Load Dataset \n",
    "handy_dataset = load_dataset()\n",
    "print(\"Dataset Loaded...\")\n",
    "\n",
    "# Shuffle Dataset\n",
    "np.random.shuffle(handy_dataset)\n",
    "\n",
    "# Extract Features and Create Feature Set\n",
    "handy_data_frame = gen_feature_set(handy_dataset)\n",
    "print(\"Featureset generated...\")\n",
    "\n",
    "# Split Feature Set \n",
    "x_train, y_train, x_test, y_test = split_data(handy_data_frame)"
   ]
  },
  {
   "cell_type": "code",
   "execution_count": 20,
   "metadata": {},
   "outputs": [
    {
     "name": "stdout",
     "output_type": "stream",
     "text": [
      "Library Model Loaded...\n"
     ]
    }
   ],
   "source": [
    "# Fit Model\n",
    "handy_classifier = classifier(x_train, y_train)\n",
    "print(\"Library Model Loaded...\")"
   ]
  },
  {
   "cell_type": "code",
   "execution_count": 22,
   "metadata": {},
   "outputs": [],
   "source": [
    "#Test Model\n",
    "y_pred = handy_classifier.predict(x_test)"
   ]
  },
  {
   "cell_type": "code",
   "execution_count": 23,
   "metadata": {},
   "outputs": [
    {
     "name": "stdout",
     "output_type": "stream",
     "text": [
      "Accuracy: 100.0%\n",
      "\n",
      "\n",
      "              precision    recall  f1-score   support\n",
      "\n",
      "         0.0       1.00      1.00      1.00        22\n",
      "         1.0       1.00      1.00      1.00        18\n",
      "\n",
      "    accuracy                           1.00        40\n",
      "   macro avg       1.00      1.00      1.00        40\n",
      "weighted avg       1.00      1.00      1.00        40\n",
      "\n"
     ]
    }
   ],
   "source": [
    "model_eval(y_test, y_pred)"
   ]
  },
  {
   "cell_type": "code",
   "execution_count": 26,
   "metadata": {},
   "outputs": [
    {
     "name": "stdout",
     "output_type": "stream",
     "text": [
      "This symbol is a resistor\n"
     ]
    },
    {
     "data": {
      "image/png": "[encoded data removed]",
      "text/plain": [
       "<Figure size 432x288 with 1 Axes>"
      ]
     },
     "metadata": {
      "needs_background": "light"
     },
     "output_type": "display_data"
    }
   ],
   "source": [
    "img = preprocess_data(mpimg.imread('./test2.PNG'))\n",
    "plt.imshow(img)\n",
    "plt.show\n",
    "\n",
    "feat_vec, feat_img = feature_extraction(img) \n",
    "\n",
    "pred = labels[np.array(handy_classifier.predict(np.array([feat_vec,])))[0]]\n",
    "\n",
    "print('This symbol is a ' + pred)"
   ]
  }
 ],
 "metadata": {
  "kernelspec": {
   "display_name": "Python 3",
   "language": "python",
   "name": "python3"
  },
  "language_info": {
   "codemirror_mode": {
    "name": "ipython",
    "version": 3
   },
   "file_extension": ".py",
   "mimetype": "text/x-python",
   "name": "python",
   "nbconvert_exporter": "python",
   "pygments_lexer": "ipython3",
   "version": "3.8.6"
  }
 },
 "nbformat": 4,
 "nbformat_minor": 4
}
